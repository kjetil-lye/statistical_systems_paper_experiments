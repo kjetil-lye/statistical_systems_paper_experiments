{
 "cells": [
  {
   "cell_type": "code",
   "execution_count": 1,
   "metadata": {},
   "outputs": [
    {
     "ename": "ModuleNotFoundError",
     "evalue": "No module named 'alsvinn'",
     "output_type": "error",
     "traceback": [
      "\u001b[0;31m---------------------------------------------------------------------------\u001b[0m",
      "\u001b[0;31mModuleNotFoundError\u001b[0m                       Traceback (most recent call last)",
      "\u001b[0;32m<ipython-input-1-d4251240e5d4>\u001b[0m in \u001b[0;36m<module>\u001b[0;34m\u001b[0m\n\u001b[1;32m      7\u001b[0m \u001b[0;34m\u001b[0m\u001b[0m\n\u001b[1;32m      8\u001b[0m \u001b[0msys\u001b[0m\u001b[0;34m.\u001b[0m\u001b[0mpath\u001b[0m\u001b[0;34m.\u001b[0m\u001b[0mappend\u001b[0m\u001b[0;34m(\u001b[0m\u001b[0;34m'/home/kjetil/projects/alsvinn_pure/build/python/'\u001b[0m\u001b[0;34m)\u001b[0m\u001b[0;34m\u001b[0m\u001b[0;34m\u001b[0m\u001b[0m\n\u001b[0;32m----> 9\u001b[0;31m \u001b[0;32mimport\u001b[0m \u001b[0malsvinn\u001b[0m\u001b[0;34m\u001b[0m\u001b[0;34m\u001b[0m\u001b[0m\n\u001b[0m\u001b[1;32m     10\u001b[0m \u001b[0;32mimport\u001b[0m \u001b[0mos\u001b[0m\u001b[0;34m\u001b[0m\u001b[0;34m\u001b[0m\u001b[0m\n\u001b[1;32m     11\u001b[0m \u001b[0;34m\u001b[0m\u001b[0m\n",
      "\u001b[0;31mModuleNotFoundError\u001b[0m: No module named 'alsvinn'"
     ]
    }
   ],
   "source": [
    "import matplotlib\n",
    "matplotlib.rcParams['savefig.dpi'] = 600\n",
    "%matplotlib inline\n",
    "import matplotlib.pyplot as plt\n",
    "from numpy import *\n",
    "import sys\n",
    "\n",
    "sys.path.append('/home/kjetil/projects/alsvinn_pure/build/python/')\n",
    "import alsvinn\n",
    "import os\n",
    "\n",
    "\n",
    "import matplotlib2tikz\n",
    "sys.path.append('../python')\n",
    "import plot_info\n",
    "from plot_info import showAndSave"
   ]
  },
  {
   "cell_type": "code",
   "execution_count": null,
   "metadata": {
    "scrolled": false
   },
   "outputs": [],
   "source": [
    "resolutions = [64,128,256,512,1024]\n",
    "samples = 4\n",
    "errors = [[] for k in range(samples)]\n",
    "dataPrev = [None for k in range(samples)]\n",
    "for resolution in resolutions:\n",
    "    runner = alsvinn.run(name='kh', base_xml='kelvinhelmholtz/kelvinhelmholtz.xml', \n",
    "                         dimension=[resolution, resolution, 1], T=2, \n",
    "                         uq=True, number_of_saves=1, statistics=['meanvar'], samples=samples)    \n",
    "    \n",
    "    for sample in range(samples):\n",
    "        data = runner.get_data('rho', 1, sample=sample).T\n",
    "        \n",
    "        x,y = mgrid[0:1:resolution*1j, 0:1:resolution*1j]\n",
    "        plt.pcolormesh(x, y, data)\n",
    "        plt.colorbar()\n",
    "        plt.xlabel('$x$')\n",
    "        plt.ylabel('$y$')\n",
    "        showAndSave('kh_single_%d_%d' % (resolution, sample))\n",
    "        \n",
    "        if resolution > resolutions[0]:\n",
    "            errors[sample].append(sum(abs(data-dataPrev[sample]))/resolution**2)\n",
    "        dataPrev[sample] = repeat(repeat(data, 2, 0), 2, 1)\n",
    "for sample in range(samples):\n",
    "    plt.loglog(resolutions[1:], errors[sample], '-o', basex=2, basey=2)\n",
    "    plt.xlabel('Resolution')\n",
    "    plt.ylim([1e-2,1])\n",
    "    plt.xticks(resolutions[1:], ['${r} \\\\times {r}$'.format(r=r) for r in resolutions[1:]])\n",
    "    plt.ylabel('$||\\\\rho^{\\Delta x}-\\\\rho^{2\\Delta x}||_{L^1}$')\n",
    "    showAndSave('kh_single_l1_convergence_%d' % sample)"
   ]
  },
  {
   "cell_type": "code",
   "execution_count": null,
   "metadata": {},
   "outputs": [],
   "source": [
    "for sample in range(samples):\n",
    "    plt.loglog(resolutions[1:], errors[sample], '-o', basex=2, basey=2)\n",
    "    plt.xlabel('Resolution')\n",
    "    plt.ylabel('$||\\\\rho^{\\Delta x}-\\\\rho^{2\\Delta x}||_{L^1}$')\n",
    "    plt.ylim([1e-2,1])\n",
    "    plt.xticks(resolutions[1:], ['${r} \\\\times {r}$'.format(r=r) for r in resolutions[1:]])\n",
    "    showAndSave('kh_single_l1_convergence_%d' % sample)"
   ]
  },
  {
   "cell_type": "code",
   "execution_count": null,
   "metadata": {},
   "outputs": [],
   "source": [
    "print(errors)"
   ]
  },
  {
   "cell_type": "code",
   "execution_count": null,
   "metadata": {},
   "outputs": [],
   "source": []
  }
 ],
 "metadata": {
  "kernelspec": {
   "display_name": "Python 3",
   "language": "python",
   "name": "python3"
  },
  "language_info": {
   "codemirror_mode": {
    "name": "ipython",
    "version": 3
   },
   "file_extension": ".py",
   "mimetype": "text/x-python",
   "name": "python",
   "nbconvert_exporter": "python",
   "pygments_lexer": "ipython3",
   "version": "3.7.3"
  }
 },
 "nbformat": 4,
 "nbformat_minor": 2
}
